{
 "cells": [
  {
   "cell_type": "markdown",
   "id": "4ed27b5e",
   "metadata": {},
   "source": [
    "## METIS FITS Wrangler\n",
    "\n",
    "Demonstrates how to use the code to take various inputs and generate METIS pipeline compliant files \n"
   ]
  },
  {
   "cell_type": "code",
   "execution_count": 2,
   "id": "4f6e2e5d",
   "metadata": {},
   "outputs": [],
   "source": [
    "from astropy.io import fits\n",
    "import numpy as np\n",
    "import pandas as pd\n",
    "import fitsWrangler as fw\n",
    "from importlib import reload"
   ]
  },
  {
   "cell_type": "markdown",
   "id": "291dcf64",
   "metadata": {},
   "source": []
  },
  {
   "cell_type": "markdown",
   "id": "5fe138a4",
   "metadata": {},
   "source": [
    "## Empty File\n",
    "\n",
    "Create an empty LM image file with the filter keyword set. Keywords here will be the minimal necessary set for a FITS file, plus ESO names for the extension names and HDUCLASS keywords. "
   ]
  },
  {
   "cell_type": "code",
   "execution_count": 10,
   "id": "a1f0fc87",
   "metadata": {},
   "outputs": [],
   "source": [
    "reload(fw)\n",
    "\n",
    "# create a parameter structure for a raw LM image\n",
    "parms = fw.makeBasicParameters(\"raw\",\"lm\")\n",
    "# set the filter value keyword\n",
    "parms['data'][0]['keywords']['filter'] = \"Mp\"\n",
    "#create\n",
    "fw.createImage(\"lm_empty.fits\",parms)\n"
   ]
  },
  {
   "cell_type": "markdown",
   "id": "ed4bbe9a",
   "metadata": {},
   "source": [
    "## From Scopesim\n",
    "\n",
    "Read in a Scopesim produced LSS file, use its data and headers as the base of the output file, with appropriate ESO header keywords. "
   ]
  },
  {
   "cell_type": "code",
   "execution_count": 30,
   "id": "e7455359",
   "metadata": {},
   "outputs": [],
   "source": [
    "reload(cf)\n",
    "#parms = cf.makeBasicParameters(\"raw\",\"ifu\")\n",
    "parms = fw.makeBasicParameters(\"raw\",\"lss\")\n",
    "\n",
    "hdul = fits.open(\"lss.fits\")\n",
    "\n",
    "parms['data'][0]['header'] = hdul[1].header\n",
    "parms['data'][0]['data'] = hdul[1].data\n",
    "parms['primary']['header'] = hdul[0].header\n",
    "\n",
    "fw.createProcessedImage(\"lss_raw.fits\",parms)\n"
   ]
  },
  {
   "cell_type": "markdown",
   "id": "54ab10be",
   "metadata": {},
   "source": [
    "## Simulating Processed Data\n",
    "\n",
    "Take the same file read in above, fake processed data by adding an error image (sqrt of the data) and a quality mask (all pixels set to 1). \n"
   ]
  },
  {
   "cell_type": "code",
   "execution_count": 15,
   "id": "761768c9",
   "metadata": {},
   "outputs": [
    {
     "name": "stderr",
     "output_type": "stream",
     "text": [
      "WARNING: VerifyWarning: Keyword name 'detector_readout_mode' is greater than 8 characters or contains characters not allowed by the FITS standard; a HIERARCH card will be created. [astropy.io.fits.card]\n",
      "WARNING: VerifyWarning: Keyword name 'pixel_size' is greater than 8 characters or contains characters not allowed by the FITS standard; a HIERARCH card will be created. [astropy.io.fits.card]\n"
     ]
    }
   ],
   "source": [
    "reload(fw)\n",
    "hdul = fits.open(\"lss.fits\")\n",
    "\n",
    "parms = fw.makeBasicParameters(\"processed\",\"lss\")\n",
    "parms['primary']['header'] = hdul[0].header\n",
    "\n",
    "parms['data'][0]['header'] = hdul[1].header\n",
    "parms['data'][0]['data'] = hdul[1].data\n",
    "\n",
    "parms['error'][0]['header'] = hdul[1].header\n",
    "parms['error'][0]['data'] = np.sqrt(np.abs(hdul[1].data))\n",
    "\n",
    "parms['quality'][0]['header'] = hdul[1].header\n",
    "parms['quality'][0]['data'] = hdul[1].data * 0.0 + 1\n",
    "\n",
    "fw.createImage(\"lss_processed.fits\",parms)\n"
   ]
  },
  {
   "cell_type": "code",
   "execution_count": 18,
   "id": "23c35a30",
   "metadata": {},
   "outputs": [],
   "source": [
    "\n",
    "parms = fw.makeBasicParameters(\"raw\",\"ifu\")\n",
    "fw.createImage(\"ifu_empty.fits\",parms)\n",
    "\n",
    "\n"
   ]
  },
  {
   "cell_type": "code",
   "execution_count": null,
   "id": "c854d3ba",
   "metadata": {},
   "outputs": [],
   "source": []
  },
  {
   "cell_type": "code",
   "execution_count": null,
   "id": "945064a7",
   "metadata": {},
   "outputs": [],
   "source": []
  }
 ],
 "metadata": {
  "kernelspec": {
   "display_name": "Python 3 (ipykernel)",
   "language": "python",
   "name": "python3"
  },
  "language_info": {
   "codemirror_mode": {
    "name": "ipython",
    "version": 3
   },
   "file_extension": ".py",
   "mimetype": "text/x-python",
   "name": "python",
   "nbconvert_exporter": "python",
   "pygments_lexer": "ipython3",
   "version": "3.8.12"
  }
 },
 "nbformat": 4,
 "nbformat_minor": 5
}
